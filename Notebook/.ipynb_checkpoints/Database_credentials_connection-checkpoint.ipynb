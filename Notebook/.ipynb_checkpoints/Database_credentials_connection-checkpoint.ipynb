{
 "cells": [
  {
   "cell_type": "code",
   "execution_count": 1,
   "id": "b04fd5db",
   "metadata": {},
   "outputs": [],
   "source": [
    "import pandas as pd\n",
    "import numpy as np\n",
    "import seaborn as sns\n",
    "import matplotlib.pyplot as plt\n",
    "import warnings\n",
    "warnings.filterwarnings(\"ignore\")"
   ]
  },
  {
   "cell_type": "code",
   "execution_count": 2,
   "id": "22278bf3",
   "metadata": {},
   "outputs": [],
   "source": [
    "df = pd.read_csv(r\"C:\\Users\\Hp\\Desktop\\Data_Science_Jupyter\\Telecom_Project_5\\Data\\Mysql_Data.csv\")"
   ]
  },
  {
   "cell_type": "code",
   "execution_count": 3,
   "id": "bf1494cb",
   "metadata": {},
   "outputs": [
    {
     "data": {
      "text/html": [
       "<div>\n",
       "<style scoped>\n",
       "    .dataframe tbody tr th:only-of-type {\n",
       "        vertical-align: middle;\n",
       "    }\n",
       "\n",
       "    .dataframe tbody tr th {\n",
       "        vertical-align: top;\n",
       "    }\n",
       "\n",
       "    .dataframe thead th {\n",
       "        text-align: right;\n",
       "    }\n",
       "</style>\n",
       "<table border=\"1\" class=\"dataframe\">\n",
       "  <thead>\n",
       "    <tr style=\"text-align: right;\">\n",
       "      <th></th>\n",
       "      <th>Bearer Id</th>\n",
       "      <th>Engagement Score</th>\n",
       "      <th>Experience Score</th>\n",
       "      <th>Satisfaction Score</th>\n",
       "    </tr>\n",
       "  </thead>\n",
       "  <tbody>\n",
       "    <tr>\n",
       "      <th>0</th>\n",
       "      <td>13114483460844900352</td>\n",
       "      <td>0.196168</td>\n",
       "      <td>22.346687</td>\n",
       "      <td>11.271427</td>\n",
       "    </tr>\n",
       "    <tr>\n",
       "      <th>1</th>\n",
       "      <td>13114483482878900224</td>\n",
       "      <td>0.175220</td>\n",
       "      <td>22.346503</td>\n",
       "      <td>11.260862</td>\n",
       "    </tr>\n",
       "    <tr>\n",
       "      <th>2</th>\n",
       "      <td>13114483484080500736</td>\n",
       "      <td>0.194544</td>\n",
       "      <td>22.346875</td>\n",
       "      <td>11.270709</td>\n",
       "    </tr>\n",
       "    <tr>\n",
       "      <th>3</th>\n",
       "      <td>13114483485442799616</td>\n",
       "      <td>0.192352</td>\n",
       "      <td>22.346551</td>\n",
       "      <td>11.269452</td>\n",
       "    </tr>\n",
       "    <tr>\n",
       "      <th>4</th>\n",
       "      <td>13114483499480700928</td>\n",
       "      <td>0.194544</td>\n",
       "      <td>22.346875</td>\n",
       "      <td>11.270709</td>\n",
       "    </tr>\n",
       "    <tr>\n",
       "      <th>...</th>\n",
       "      <td>...</td>\n",
       "      <td>...</td>\n",
       "      <td>...</td>\n",
       "      <td>...</td>\n",
       "    </tr>\n",
       "    <tr>\n",
       "      <th>149996</th>\n",
       "      <td>7277825670196679680</td>\n",
       "      <td>0.212012</td>\n",
       "      <td>22.346697</td>\n",
       "      <td>11.279355</td>\n",
       "    </tr>\n",
       "    <tr>\n",
       "      <th>149997</th>\n",
       "      <td>7349883264234609664</td>\n",
       "      <td>0.216762</td>\n",
       "      <td>22.346925</td>\n",
       "      <td>11.281843</td>\n",
       "    </tr>\n",
       "    <tr>\n",
       "      <th>149998</th>\n",
       "      <td>13114483573367300096</td>\n",
       "      <td>0.193348</td>\n",
       "      <td>22.346556</td>\n",
       "      <td>11.269952</td>\n",
       "    </tr>\n",
       "    <tr>\n",
       "      <th>149999</th>\n",
       "      <td>13114483573367300096</td>\n",
       "      <td>0.201561</td>\n",
       "      <td>22.346743</td>\n",
       "      <td>11.274152</td>\n",
       "    </tr>\n",
       "    <tr>\n",
       "      <th>150000</th>\n",
       "      <td></td>\n",
       "      <td>0.191217</td>\n",
       "      <td>22.346382</td>\n",
       "      <td>11.268799</td>\n",
       "    </tr>\n",
       "  </tbody>\n",
       "</table>\n",
       "<p>150001 rows × 4 columns</p>\n",
       "</div>"
      ],
      "text/plain": [
       "                   Bearer Id  Engagement Score  Experience Score  \\\n",
       "0       13114483460844900352          0.196168         22.346687   \n",
       "1       13114483482878900224          0.175220         22.346503   \n",
       "2       13114483484080500736          0.194544         22.346875   \n",
       "3       13114483485442799616          0.192352         22.346551   \n",
       "4       13114483499480700928          0.194544         22.346875   \n",
       "...                      ...               ...               ...   \n",
       "149996   7277825670196679680          0.212012         22.346697   \n",
       "149997   7349883264234609664          0.216762         22.346925   \n",
       "149998  13114483573367300096          0.193348         22.346556   \n",
       "149999  13114483573367300096          0.201561         22.346743   \n",
       "150000                                0.191217         22.346382   \n",
       "\n",
       "        Satisfaction Score  \n",
       "0                11.271427  \n",
       "1                11.260862  \n",
       "2                11.270709  \n",
       "3                11.269452  \n",
       "4                11.270709  \n",
       "...                    ...  \n",
       "149996           11.279355  \n",
       "149997           11.281843  \n",
       "149998           11.269952  \n",
       "149999           11.274152  \n",
       "150000           11.268799  \n",
       "\n",
       "[150001 rows x 4 columns]"
      ]
     },
     "execution_count": 3,
     "metadata": {},
     "output_type": "execute_result"
    }
   ],
   "source": [
    "df"
   ]
  },
  {
   "cell_type": "code",
   "execution_count": 4,
   "id": "c72afa9f",
   "metadata": {},
   "outputs": [
    {
     "data": {
      "text/plain": [
       "(150001, 4)"
      ]
     },
     "execution_count": 4,
     "metadata": {},
     "output_type": "execute_result"
    }
   ],
   "source": [
    "df.shape"
   ]
  },
  {
   "cell_type": "code",
   "execution_count": 5,
   "id": "be1ef3cb",
   "metadata": {},
   "outputs": [],
   "source": [
    "from sqlalchemy import create_engine"
   ]
  },
  {
   "cell_type": "code",
   "execution_count": 6,
   "id": "bb04624c",
   "metadata": {},
   "outputs": [],
   "source": [
    "# Database credentials and connection\n",
    "db_username = 'your_username'\n",
    "db_password = 'your_password'\n",
    "db_host = 'localhost'\n",
    "db_port = '3306'\n",
    "db_name = 'your_database'"
   ]
  },
  {
   "cell_type": "code",
   "execution_count": null,
   "id": "636c92e2",
   "metadata": {},
   "outputs": [],
   "source": []
  }
 ],
 "metadata": {
  "kernelspec": {
   "display_name": "Python 3 (ipykernel)",
   "language": "python",
   "name": "python3"
  },
  "language_info": {
   "codemirror_mode": {
    "name": "ipython",
    "version": 3
   },
   "file_extension": ".py",
   "mimetype": "text/x-python",
   "name": "python",
   "nbconvert_exporter": "python",
   "pygments_lexer": "ipython3",
   "version": "3.11.5"
  }
 },
 "nbformat": 4,
 "nbformat_minor": 5
}
