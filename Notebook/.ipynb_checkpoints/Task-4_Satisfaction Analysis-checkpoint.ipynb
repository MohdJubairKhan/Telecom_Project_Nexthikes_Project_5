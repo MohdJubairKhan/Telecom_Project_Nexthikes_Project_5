{
 "cells": [
  {
   "cell_type": "code",
   "execution_count": 1,
   "id": "2b9775c3",
   "metadata": {},
   "outputs": [],
   "source": [
    "import pandas as pd\n",
    "import numpy as np\n",
    "import seaborn as sns\n",
    "import matplotlib.pyplot as plt\n",
    "import warnings\n",
    "from sklearn.preprocessing import StandardScaler\n",
    "from sklearn.cluster import KMeans\n",
    "from scipy.spatial.distance import cdist\n",
    "warnings.filterwarnings(\"ignore\")"
   ]
  },
  {
   "cell_type": "code",
   "execution_count": 2,
   "id": "606d2be9",
   "metadata": {},
   "outputs": [],
   "source": [
    "df = pd.read_excel(r\"C:\\Users\\Hp\\Desktop\\Data_Science_Jupyter\\Telecom_Project_5\\Data\\featured_telcom_data.xlsx\")"
   ]
  },
  {
   "cell_type": "code",
   "execution_count": 3,
   "id": "19ddc724",
   "metadata": {
    "scrolled": true
   },
   "outputs": [
    {
     "data": {
      "text/html": [
       "<div>\n",
       "<style scoped>\n",
       "    .dataframe tbody tr th:only-of-type {\n",
       "        vertical-align: middle;\n",
       "    }\n",
       "\n",
       "    .dataframe tbody tr th {\n",
       "        vertical-align: top;\n",
       "    }\n",
       "\n",
       "    .dataframe thead th {\n",
       "        text-align: right;\n",
       "    }\n",
       "</style>\n",
       "<table border=\"1\" class=\"dataframe\">\n",
       "  <thead>\n",
       "    <tr style=\"text-align: right;\">\n",
       "      <th></th>\n",
       "      <th>Bearer_Id</th>\n",
       "      <th>Start</th>\n",
       "      <th>Start ms</th>\n",
       "      <th>End</th>\n",
       "      <th>End ms</th>\n",
       "      <th>Dur. (ms)</th>\n",
       "      <th>IMSI</th>\n",
       "      <th>MSISDN/Number</th>\n",
       "      <th>IMEI</th>\n",
       "      <th>Last Location Name</th>\n",
       "      <th>...</th>\n",
       "      <th>Email DL (Bytes) Total</th>\n",
       "      <th>Email UL (Bytes) Total</th>\n",
       "      <th>Youtube DL (Bytes) Total</th>\n",
       "      <th>Youtube UL (Bytes) Total</th>\n",
       "      <th>Netflix DL (Bytes) Total</th>\n",
       "      <th>Netflix UL (Bytes) Total</th>\n",
       "      <th>Gaming DL (Bytes) Total</th>\n",
       "      <th>Gaming UL (Bytes) Total</th>\n",
       "      <th>Other DL (Bytes) Total</th>\n",
       "      <th>Other UL (Bytes) Total</th>\n",
       "    </tr>\n",
       "  </thead>\n",
       "  <tbody>\n",
       "    <tr>\n",
       "      <th>0</th>\n",
       "      <td>13114483460844900352</td>\n",
       "      <td>2019-04-04 12:01:18</td>\n",
       "      <td>770</td>\n",
       "      <td>2019-04-25 14:35:31</td>\n",
       "      <td>662</td>\n",
       "      <td>1823652</td>\n",
       "      <td>208201448079117</td>\n",
       "      <td>33664962239</td>\n",
       "      <td>35521209507511</td>\n",
       "      <td>9164566995485190</td>\n",
       "      <td>...</td>\n",
       "      <td>3563542.0</td>\n",
       "      <td>137762.0</td>\n",
       "      <td>15854611.0</td>\n",
       "      <td>2501332.0</td>\n",
       "      <td>8198936.0</td>\n",
       "      <td>9656251.0</td>\n",
       "      <td>278082303.0</td>\n",
       "      <td>14344150.0</td>\n",
       "      <td>171744450.0</td>\n",
       "      <td>8814393.0</td>\n",
       "    </tr>\n",
       "    <tr>\n",
       "      <th>1</th>\n",
       "      <td>13114483482878900224</td>\n",
       "      <td>2019-04-09 13:04:04</td>\n",
       "      <td>235</td>\n",
       "      <td>2019-04-25 08:15:48</td>\n",
       "      <td>606</td>\n",
       "      <td>1365104</td>\n",
       "      <td>208201909211140</td>\n",
       "      <td>33681854413</td>\n",
       "      <td>35794009006359</td>\n",
       "      <td>L77566A</td>\n",
       "      <td>...</td>\n",
       "      <td>629046.0</td>\n",
       "      <td>308339.0</td>\n",
       "      <td>20247395.0</td>\n",
       "      <td>19111729.0</td>\n",
       "      <td>18338413.0</td>\n",
       "      <td>17227132.0</td>\n",
       "      <td>608750074.0</td>\n",
       "      <td>1170709.0</td>\n",
       "      <td>526904238.0</td>\n",
       "      <td>15055145.0</td>\n",
       "    </tr>\n",
       "    <tr>\n",
       "      <th>2</th>\n",
       "      <td>13114483484080500736</td>\n",
       "      <td>2019-04-09 17:42:11</td>\n",
       "      <td>1</td>\n",
       "      <td>2019-04-25 11:58:13</td>\n",
       "      <td>652</td>\n",
       "      <td>1361762</td>\n",
       "      <td>208200314458056</td>\n",
       "      <td>33760627129</td>\n",
       "      <td>35281510359387</td>\n",
       "      <td>D42335A</td>\n",
       "      <td>...</td>\n",
       "      <td>2690151.0</td>\n",
       "      <td>672973.0</td>\n",
       "      <td>19725661.0</td>\n",
       "      <td>14699576.0</td>\n",
       "      <td>17587794.0</td>\n",
       "      <td>6163408.0</td>\n",
       "      <td>229584621.0</td>\n",
       "      <td>395630.0</td>\n",
       "      <td>410692588.0</td>\n",
       "      <td>4215763.0</td>\n",
       "    </tr>\n",
       "    <tr>\n",
       "      <th>3</th>\n",
       "      <td>13114483485442799616</td>\n",
       "      <td>2019-04-10 00:31:25</td>\n",
       "      <td>486</td>\n",
       "      <td>2019-04-25 07:36:35</td>\n",
       "      <td>171</td>\n",
       "      <td>1321509</td>\n",
       "      <td>208201402342131</td>\n",
       "      <td>33750343200</td>\n",
       "      <td>35356610164913</td>\n",
       "      <td>T21824A</td>\n",
       "      <td>...</td>\n",
       "      <td>1439754.0</td>\n",
       "      <td>631229.0</td>\n",
       "      <td>21388122.0</td>\n",
       "      <td>15146643.0</td>\n",
       "      <td>13994646.0</td>\n",
       "      <td>1097942.0</td>\n",
       "      <td>799538153.0</td>\n",
       "      <td>10849722.0</td>\n",
       "      <td>749039933.0</td>\n",
       "      <td>12797283.0</td>\n",
       "    </tr>\n",
       "    <tr>\n",
       "      <th>4</th>\n",
       "      <td>13114483499480700928</td>\n",
       "      <td>2019-04-12 20:10:23</td>\n",
       "      <td>565</td>\n",
       "      <td>2019-04-25 10:40:32</td>\n",
       "      <td>954</td>\n",
       "      <td>1089009</td>\n",
       "      <td>208201401415120</td>\n",
       "      <td>33699795932</td>\n",
       "      <td>35407009745539</td>\n",
       "      <td>D88865A</td>\n",
       "      <td>...</td>\n",
       "      <td>1936496.0</td>\n",
       "      <td>173853.0</td>\n",
       "      <td>15259380.0</td>\n",
       "      <td>18962873.0</td>\n",
       "      <td>17124581.0</td>\n",
       "      <td>415218.0</td>\n",
       "      <td>527707248.0</td>\n",
       "      <td>3529801.0</td>\n",
       "      <td>550709500.0</td>\n",
       "      <td>13910322.0</td>\n",
       "    </tr>\n",
       "  </tbody>\n",
       "</table>\n",
       "<p>5 rows × 70 columns</p>\n",
       "</div>"
      ],
      "text/plain": [
       "              Bearer_Id               Start  Start ms                 End  \\\n",
       "0  13114483460844900352 2019-04-04 12:01:18       770 2019-04-25 14:35:31   \n",
       "1  13114483482878900224 2019-04-09 13:04:04       235 2019-04-25 08:15:48   \n",
       "2  13114483484080500736 2019-04-09 17:42:11         1 2019-04-25 11:58:13   \n",
       "3  13114483485442799616 2019-04-10 00:31:25       486 2019-04-25 07:36:35   \n",
       "4  13114483499480700928 2019-04-12 20:10:23       565 2019-04-25 10:40:32   \n",
       "\n",
       "   End ms  Dur. (ms)             IMSI  MSISDN/Number            IMEI  \\\n",
       "0     662    1823652  208201448079117    33664962239  35521209507511   \n",
       "1     606    1365104  208201909211140    33681854413  35794009006359   \n",
       "2     652    1361762  208200314458056    33760627129  35281510359387   \n",
       "3     171    1321509  208201402342131    33750343200  35356610164913   \n",
       "4     954    1089009  208201401415120    33699795932  35407009745539   \n",
       "\n",
       "  Last Location Name  ...  Email DL (Bytes) Total  Email UL (Bytes) Total  \\\n",
       "0   9164566995485190  ...               3563542.0                137762.0   \n",
       "1            L77566A  ...                629046.0                308339.0   \n",
       "2            D42335A  ...               2690151.0                672973.0   \n",
       "3            T21824A  ...               1439754.0                631229.0   \n",
       "4            D88865A  ...               1936496.0                173853.0   \n",
       "\n",
       "   Youtube DL (Bytes) Total  Youtube UL (Bytes) Total  \\\n",
       "0                15854611.0                 2501332.0   \n",
       "1                20247395.0                19111729.0   \n",
       "2                19725661.0                14699576.0   \n",
       "3                21388122.0                15146643.0   \n",
       "4                15259380.0                18962873.0   \n",
       "\n",
       "   Netflix DL (Bytes) Total  Netflix UL (Bytes) Total  \\\n",
       "0                 8198936.0                 9656251.0   \n",
       "1                18338413.0                17227132.0   \n",
       "2                17587794.0                 6163408.0   \n",
       "3                13994646.0                 1097942.0   \n",
       "4                17124581.0                  415218.0   \n",
       "\n",
       "   Gaming DL (Bytes) Total  Gaming UL (Bytes) Total  Other DL (Bytes) Total  \\\n",
       "0              278082303.0               14344150.0             171744450.0   \n",
       "1              608750074.0                1170709.0             526904238.0   \n",
       "2              229584621.0                 395630.0             410692588.0   \n",
       "3              799538153.0               10849722.0             749039933.0   \n",
       "4              527707248.0                3529801.0             550709500.0   \n",
       "\n",
       "   Other UL (Bytes) Total  \n",
       "0               8814393.0  \n",
       "1              15055145.0  \n",
       "2               4215763.0  \n",
       "3              12797283.0  \n",
       "4              13910322.0  \n",
       "\n",
       "[5 rows x 70 columns]"
      ]
     },
     "execution_count": 3,
     "metadata": {},
     "output_type": "execute_result"
    }
   ],
   "source": [
    "df.head(5)"
   ]
  },
  {
   "cell_type": "code",
   "execution_count": 4,
   "id": "368cbc10",
   "metadata": {},
   "outputs": [
    {
     "data": {
      "text/plain": [
       "(150001, 70)"
      ]
     },
     "execution_count": 4,
     "metadata": {},
     "output_type": "execute_result"
    }
   ],
   "source": [
    "df.shape"
   ]
  },
  {
   "cell_type": "markdown",
   "id": "d8b47c51",
   "metadata": {},
   "source": [
    "# Calculate average TCP retransmission, RTT, and throughput"
   ]
  },
  {
   "cell_type": "code",
   "execution_count": 5,
   "id": "1bffb6d6",
   "metadata": {},
   "outputs": [],
   "source": [
    "df['Avg TCP Retrans. Vol (Bytes)'] = (df['TCP DL Retrans. Vol (Bytes)'] +\n",
    "                                      df['TCP UL Retrans. Vol (Bytes)']) / 2"
   ]
  },
  {
   "cell_type": "code",
   "execution_count": 6,
   "id": "98c82046",
   "metadata": {},
   "outputs": [
    {
     "data": {
      "text/plain": [
       "0         294839.75\n",
       "1         294839.75\n",
       "2         294839.75\n",
       "3         294839.75\n",
       "4         294839.75\n",
       "            ...    \n",
       "149996    294839.75\n",
       "149997    294839.75\n",
       "149998    294839.75\n",
       "149999    294839.75\n",
       "150000    294839.75\n",
       "Name: Avg TCP Retrans. Vol (Bytes), Length: 150001, dtype: float64"
      ]
     },
     "execution_count": 6,
     "metadata": {},
     "output_type": "execute_result"
    }
   ],
   "source": [
    "df['Avg TCP Retrans. Vol (Bytes)']"
   ]
  },
  {
   "cell_type": "code",
   "execution_count": 7,
   "id": "f02842d7",
   "metadata": {},
   "outputs": [],
   "source": [
    "df['Avg RTT (ms)'] = (df['Avg RTT DL (ms)'] + df['Avg RTT UL (ms)']) / 2"
   ]
  },
  {
   "cell_type": "code",
   "execution_count": 8,
   "id": "baccecaf",
   "metadata": {},
   "outputs": [
    {
     "data": {
      "text/plain": [
       "0         23.5\n",
       "1         35.0\n",
       "2         25.0\n",
       "3         25.0\n",
       "4         25.0\n",
       "          ... \n",
       "149996    16.0\n",
       "149997    14.5\n",
       "149998    24.5\n",
       "149999    21.0\n",
       "150000    25.0\n",
       "Name: Avg RTT (ms), Length: 150001, dtype: float64"
      ]
     },
     "execution_count": 8,
     "metadata": {},
     "output_type": "execute_result"
    }
   ],
   "source": [
    "df['Avg RTT (ms)']"
   ]
  },
  {
   "cell_type": "code",
   "execution_count": 9,
   "id": "72768f72",
   "metadata": {},
   "outputs": [],
   "source": [
    "df['Avg Throughput (kbps)'] = (df['Avg Bearer TP DL (kbps)'] + df['Avg Bearer TP UL (kbps)']) / 2"
   ]
  },
  {
   "cell_type": "code",
   "execution_count": 10,
   "id": "06d4ae1d",
   "metadata": {},
   "outputs": [
    {
     "data": {
      "text/plain": [
       "0         33.5\n",
       "1         21.0\n",
       "2          7.5\n",
       "3         44.0\n",
       "4          7.5\n",
       "          ... \n",
       "149996    58.5\n",
       "149997    38.5\n",
       "149998    45.0\n",
       "149999    35.5\n",
       "150000    63.0\n",
       "Name: Avg Throughput (kbps), Length: 150001, dtype: float64"
      ]
     },
     "execution_count": 10,
     "metadata": {},
     "output_type": "execute_result"
    }
   ],
   "source": [
    "df['Avg Throughput (kbps)']"
   ]
  },
  {
   "cell_type": "markdown",
   "id": "c1a6577e",
   "metadata": {},
   "source": [
    "# Select relevant features for clustering"
   ]
  },
  {
   "cell_type": "code",
   "execution_count": 11,
   "id": "e1b35d2e",
   "metadata": {},
   "outputs": [],
   "source": [
    "features = df[['Avg TCP Retrans. Vol (Bytes)', 'Avg RTT (ms)', 'Avg Throughput (kbps)']]"
   ]
  },
  {
   "cell_type": "code",
   "execution_count": 12,
   "id": "d747d6f5",
   "metadata": {},
   "outputs": [],
   "source": [
    "# Standardize the data\n",
    "scaler = StandardScaler()\n",
    "features_scaled = scaler.fit_transform(features)"
   ]
  },
  {
   "cell_type": "markdown",
   "id": "a859cb56",
   "metadata": {},
   "source": [
    "# Perform k-means clustering for engagement"
   ]
  },
  {
   "cell_type": "code",
   "execution_count": 13,
   "id": "c5a08e09",
   "metadata": {},
   "outputs": [],
   "source": [
    "kmeans_engagement = KMeans(n_clusters=3, random_state=42)\n",
    "engagement_clusters = kmeans_engagement.fit_predict(features_scaled)\n",
    "df['Engagement Cluster'] = engagement_clusters"
   ]
  },
  {
   "cell_type": "markdown",
   "id": "5247a3dc",
   "metadata": {},
   "source": [
    "# Perform k-means clustering for experience"
   ]
  },
  {
   "cell_type": "code",
   "execution_count": 14,
   "id": "b43bc606",
   "metadata": {},
   "outputs": [],
   "source": [
    "kmeans_experience = KMeans(n_clusters=3, random_state=42)\n",
    "experience_clusters = kmeans_experience.fit_predict(features_scaled)\n",
    "df['Experience Cluster'] = experience_clusters"
   ]
  },
  {
   "cell_type": "markdown",
   "id": "a5098fa6",
   "metadata": {},
   "source": [
    "# Calculate the Euclidean distance for engagement score"
   ]
  },
  {
   "cell_type": "code",
   "execution_count": 15,
   "id": "65dac7b7",
   "metadata": {},
   "outputs": [],
   "source": [
    "less_engaged_centroid = kmeans_engagement.cluster_centers_[0]\n",
    "df['Engagement Score'] = cdist(features_scaled, [less_engaged_centroid], metric='euclidean')"
   ]
  },
  {
   "cell_type": "code",
   "execution_count": 16,
   "id": "6b80c385",
   "metadata": {},
   "outputs": [
    {
     "data": {
      "text/plain": [
       "0         0.196168\n",
       "1         0.175220\n",
       "2         0.194544\n",
       "3         0.192352\n",
       "4         0.194544\n",
       "            ...   \n",
       "149996    0.212012\n",
       "149997    0.216762\n",
       "149998    0.193348\n",
       "149999    0.201561\n",
       "150000    0.191217\n",
       "Name: Engagement Score, Length: 150001, dtype: float64"
      ]
     },
     "execution_count": 16,
     "metadata": {},
     "output_type": "execute_result"
    }
   ],
   "source": [
    "df['Engagement Score']"
   ]
  },
  {
   "cell_type": "markdown",
   "id": "535771aa",
   "metadata": {},
   "source": [
    "# Calculate the Euclidean distance for experience score"
   ]
  },
  {
   "cell_type": "code",
   "execution_count": 17,
   "id": "572e1dac",
   "metadata": {},
   "outputs": [],
   "source": [
    "worst_experience_centroid = kmeans_experience.cluster_centers_[2]\n",
    "df['Experience Score'] = cdist(features_scaled, [worst_experience_centroid], metric='euclidean')"
   ]
  },
  {
   "cell_type": "code",
   "execution_count": 18,
   "id": "e9b93b99",
   "metadata": {},
   "outputs": [
    {
     "data": {
      "text/plain": [
       "0         22.346687\n",
       "1         22.346503\n",
       "2         22.346875\n",
       "3         22.346551\n",
       "4         22.346875\n",
       "            ...    \n",
       "149996    22.346697\n",
       "149997    22.346925\n",
       "149998    22.346556\n",
       "149999    22.346743\n",
       "150000    22.346382\n",
       "Name: Experience Score, Length: 150001, dtype: float64"
      ]
     },
     "execution_count": 18,
     "metadata": {},
     "output_type": "execute_result"
    }
   ],
   "source": [
    "df['Experience Score']"
   ]
  },
  {
   "cell_type": "markdown",
   "id": "540584cf",
   "metadata": {},
   "source": [
    "# Calculate the satisfaction score as the average of engagement and experience scores"
   ]
  },
  {
   "cell_type": "code",
   "execution_count": 19,
   "id": "6e8e254f",
   "metadata": {},
   "outputs": [],
   "source": [
    "df['Satisfaction Score'] = (df['Engagement Score'] + df['Experience Score']) / 2"
   ]
  },
  {
   "cell_type": "code",
   "execution_count": 20,
   "id": "2ff8c464",
   "metadata": {},
   "outputs": [
    {
     "data": {
      "text/plain": [
       "0         11.271427\n",
       "1         11.260862\n",
       "2         11.270709\n",
       "3         11.269452\n",
       "4         11.270709\n",
       "            ...    \n",
       "149996    11.279355\n",
       "149997    11.281843\n",
       "149998    11.269952\n",
       "149999    11.274152\n",
       "150000    11.268799\n",
       "Name: Satisfaction Score, Length: 150001, dtype: float64"
      ]
     },
     "execution_count": 20,
     "metadata": {},
     "output_type": "execute_result"
    }
   ],
   "source": [
    "df['Satisfaction Score']"
   ]
  },
  {
   "cell_type": "markdown",
   "id": "527b6fe4",
   "metadata": {},
   "source": [
    "# Report the top 10 satisfied customers"
   ]
  },
  {
   "cell_type": "code",
   "execution_count": 21,
   "id": "ddc1dbbf",
   "metadata": {},
   "outputs": [],
   "source": [
    "top_10_satisfied_customers = df.nsmallest(10, 'Satisfaction Score')"
   ]
  },
  {
   "cell_type": "markdown",
   "id": "d31ed908",
   "metadata": {},
   "source": [
    "# Print the top 10 satisfied customers"
   ]
  },
  {
   "cell_type": "code",
   "execution_count": 22,
   "id": "8146edb1",
   "metadata": {},
   "outputs": [
    {
     "name": "stdout",
     "output_type": "stream",
     "text": [
      "        Engagement Score  Experience Score  Satisfaction Score\n",
      "83562          10.846401         11.472356           11.159379\n",
      "45691           9.673159         12.645617           11.159388\n",
      "135980          1.286370         21.032415           11.159392\n",
      "44369           0.609105         21.709703           11.159404\n",
      "37953           0.234574         22.084264           11.159419\n",
      "137253          0.023036         22.295867           11.159452\n",
      "96042           0.387443         21.931535           11.159489\n",
      "2810           10.239941         12.079049           11.159495\n",
      "34529           0.156277         22.162973           11.159625\n",
      "15839           0.456079         21.863191           11.159635\n"
     ]
    }
   ],
   "source": [
    "print(top_10_satisfied_customers[['Engagement Score', 'Experience Score', 'Satisfaction Score']])"
   ]
  },
  {
   "cell_type": "markdown",
   "id": "78629584",
   "metadata": {},
   "source": [
    "# Prepare the Data:\n"
   ]
  },
  {
   "cell_type": "code",
   "execution_count": 23,
   "id": "fb2943b7",
   "metadata": {},
   "outputs": [],
   "source": [
    "from sklearn.model_selection import train_test_split\n",
    "from sklearn.linear_model import LinearRegression\n",
    "from sklearn.metrics import mean_absolute_error, mean_squared_error, r2_score"
   ]
  },
  {
   "cell_type": "code",
   "execution_count": 24,
   "id": "ef72ca86",
   "metadata": {},
   "outputs": [],
   "source": [
    "# Prepare the features and target\n",
    "X = np.asanyarray(df[['Avg TCP Retrans. Vol (Bytes)', 'Avg RTT (ms)', 'Avg Throughput (kbps)']])\n",
    "y = np.asanyarray(df['Satisfaction Score'])"
   ]
  },
  {
   "cell_type": "code",
   "execution_count": 25,
   "id": "5320daf6",
   "metadata": {},
   "outputs": [
    {
     "data": {
      "text/plain": [
       "((150001, 3), (150001,))"
      ]
     },
     "execution_count": 25,
     "metadata": {},
     "output_type": "execute_result"
    }
   ],
   "source": [
    "X.shape  , y.shape"
   ]
  },
  {
   "cell_type": "code",
   "execution_count": 26,
   "id": "f25b2735",
   "metadata": {},
   "outputs": [],
   "source": [
    "# Split the data into training and testing sets\n",
    "X_train, X_test, y_train, y_test = train_test_split(X, y, test_size=0.2, random_state=42)"
   ]
  },
  {
   "cell_type": "markdown",
   "id": "add6d30d",
   "metadata": {},
   "source": [
    "# Initialize and train the linear regression model"
   ]
  },
  {
   "cell_type": "code",
   "execution_count": 27,
   "id": "065881db",
   "metadata": {},
   "outputs": [],
   "source": [
    "model = LinearRegression()\n",
    "model.fit(X_train, y_train)\n",
    "y_pred = model.predict(X_test)"
   ]
  },
  {
   "cell_type": "code",
   "execution_count": 28,
   "id": "8bf456d2",
   "metadata": {},
   "outputs": [],
   "source": [
    "r2_score_ = r2_score(y_test, y_pred)"
   ]
  },
  {
   "cell_type": "code",
   "execution_count": 29,
   "id": "23a7fd0c",
   "metadata": {},
   "outputs": [
    {
     "data": {
      "text/plain": [
       "0.9066361669597846"
      ]
     },
     "execution_count": 29,
     "metadata": {},
     "output_type": "execute_result"
    }
   ],
   "source": [
    "r2_score_"
   ]
  },
  {
   "cell_type": "code",
   "execution_count": 30,
   "id": "8eb455cd",
   "metadata": {},
   "outputs": [],
   "source": [
    "mae = mean_absolute_error(y_test, y_pred)\n",
    "mse = mean_squared_error(y_test, y_pred)\n",
    "rmse = np.sqrt(mse)"
   ]
  },
  {
   "cell_type": "code",
   "execution_count": 31,
   "id": "8c250ff9",
   "metadata": {},
   "outputs": [
    {
     "data": {
      "text/plain": [
       "(0.12303205004189333, 0.07216062127840765, 0.26862729064338875)"
      ]
     },
     "execution_count": 31,
     "metadata": {},
     "output_type": "execute_result"
    }
   ],
   "source": [
    "mae  , mse   , rmse"
   ]
  },
  {
   "cell_type": "code",
   "execution_count": 32,
   "id": "d2c590ac",
   "metadata": {},
   "outputs": [
    {
     "name": "stdout",
     "output_type": "stream",
     "text": [
      "<class 'sklearn.linear_model._base.LinearRegression'>\n"
     ]
    }
   ],
   "source": [
    "import pickle \n",
    "pickle.dump(model,open('regression_model.pkl','wb'))\n",
    "print(type(model)) "
   ]
  },
  {
   "cell_type": "markdown",
   "id": "4c69b9d6",
   "metadata": {},
   "source": [
    "# Extract the engagement and experience scores"
   ]
  },
  {
   "cell_type": "code",
   "execution_count": 33,
   "id": "a4bc7e7d",
   "metadata": {},
   "outputs": [],
   "source": [
    "scores = df[['Engagement Score', 'Experience Score']]"
   ]
  },
  {
   "cell_type": "code",
   "execution_count": 34,
   "id": "6e7a6a99",
   "metadata": {},
   "outputs": [],
   "source": [
    "kmeans = KMeans(n_clusters=2, random_state=42)\n",
    "df['Score Cluster'] = kmeans.fit_predict(scores)"
   ]
  },
  {
   "cell_type": "code",
   "execution_count": 35,
   "id": "f62478e3",
   "metadata": {},
   "outputs": [],
   "source": [
    "centroids = kmeans.cluster_centers_"
   ]
  },
  {
   "cell_type": "code",
   "execution_count": 36,
   "id": "a6c56d2b",
   "metadata": {},
   "outputs": [
    {
     "data": {
      "text/plain": [
       "array([[ 0.68828002, 22.28129064],\n",
       "       [22.86825532, 13.58390469]])"
      ]
     },
     "execution_count": 36,
     "metadata": {},
     "output_type": "execute_result"
    }
   ],
   "source": [
    "centroids"
   ]
  },
  {
   "cell_type": "markdown",
   "id": "4589ed37",
   "metadata": {},
   "source": [
    "# Visualize the clusters"
   ]
  },
  {
   "cell_type": "code",
   "execution_count": 37,
   "id": "31caa0f8",
   "metadata": {},
   "outputs": [
    {
     "data": {
      "image/png": "[encoded data removed]",
      "text/plain": [
       "<Figure size 1000x600 with 1 Axes>"
      ]
     },
     "metadata": {},
     "output_type": "display_data"
    }
   ],
   "source": [
    "plt.figure(figsize=(10, 6))\n",
    "plt.scatter(df['Engagement Score'], df['Experience Score'], c=df['Score Cluster'], cmap='viridis', marker='o', s=50, alpha=0.6, edgecolor='w', label='Customers')\n",
    "plt.scatter(centroids[:, 0], centroids[:, 1], c='red', marker='x', s=200, linewidths=3, label='Centroids')\n",
    "plt.title('K-means Clustering of Engagement and Experience Scores (k=2)')\n",
    "plt.xlabel('Engagement Score')\n",
    "plt.ylabel('Experience Score')\n",
    "plt.legend()\n",
    "plt.grid(True)\n",
    "plt.show()"
   ]
  },
  {
   "cell_type": "code",
   "execution_count": 38,
   "id": "cd60d612",
   "metadata": {},
   "outputs": [
    {
     "name": "stdout",
     "output_type": "stream",
     "text": [
      "   Engagement Score  Experience Score\n",
      "0          0.688280         22.281291\n",
      "1         22.868255         13.583905\n"
     ]
    }
   ],
   "source": [
    "print(pd.DataFrame(centroids, columns=['Engagement Score', 'Experience Score']))"
   ]
  },
  {
   "cell_type": "markdown",
   "id": "64fb0700",
   "metadata": {},
   "source": [
    "# Aggregate the average satisfaction and experience score per cluster"
   ]
  },
  {
   "cell_type": "code",
   "execution_count": 39,
   "id": "80f41765",
   "metadata": {},
   "outputs": [],
   "source": [
    "df['Satisfaction Score'] = (df['Engagement Score'] + df['Experience Score']) / 2"
   ]
  },
  {
   "cell_type": "code",
   "execution_count": 40,
   "id": "e0d5b9c8",
   "metadata": {},
   "outputs": [],
   "source": [
    "cluster_aggregation = df.groupby('Score Cluster').agg({\n",
    "    'Satisfaction Score': 'mean',\n",
    "    'Experience Score': 'mean'\n",
    "}).reset_index()"
   ]
  },
  {
   "cell_type": "code",
   "execution_count": 41,
   "id": "892da725",
   "metadata": {},
   "outputs": [
    {
     "data": {
      "text/html": [
       "<div>\n",
       "<style scoped>\n",
       "    .dataframe tbody tr th:only-of-type {\n",
       "        vertical-align: middle;\n",
       "    }\n",
       "\n",
       "    .dataframe tbody tr th {\n",
       "        vertical-align: top;\n",
       "    }\n",
       "\n",
       "    .dataframe thead th {\n",
       "        text-align: right;\n",
       "    }\n",
       "</style>\n",
       "<table border=\"1\" class=\"dataframe\">\n",
       "  <thead>\n",
       "    <tr style=\"text-align: right;\">\n",
       "      <th></th>\n",
       "      <th>Score Cluster</th>\n",
       "      <th>Satisfaction Score</th>\n",
       "      <th>Experience Score</th>\n",
       "    </tr>\n",
       "  </thead>\n",
       "  <tbody>\n",
       "    <tr>\n",
       "      <th>0</th>\n",
       "      <td>0</td>\n",
       "      <td>11.484785</td>\n",
       "      <td>22.281291</td>\n",
       "    </tr>\n",
       "    <tr>\n",
       "      <th>1</th>\n",
       "      <td>1</td>\n",
       "      <td>18.226080</td>\n",
       "      <td>13.583905</td>\n",
       "    </tr>\n",
       "  </tbody>\n",
       "</table>\n",
       "</div>"
      ],
      "text/plain": [
       "   Score Cluster  Satisfaction Score  Experience Score\n",
       "0              0           11.484785         22.281291\n",
       "1              1           18.226080         13.583905"
      ]
     },
     "execution_count": 41,
     "metadata": {},
     "output_type": "execute_result"
    }
   ],
   "source": [
    "cluster_aggregation"
   ]
  },
  {
   "cell_type": "code",
   "execution_count": 42,
   "id": "5fe9a100",
   "metadata": {},
   "outputs": [],
   "source": [
    "Mysql_Data=pd.DataFrame(df,columns=['Bearer_Id','Engagement Score', 'Experience Score','Satisfaction Score'])"
   ]
  },
  {
   "cell_type": "code",
   "execution_count": 43,
   "id": "8b781004",
   "metadata": {},
   "outputs": [
    {
     "data": {
      "text/html": [
       "<div>\n",
       "<style scoped>\n",
       "    .dataframe tbody tr th:only-of-type {\n",
       "        vertical-align: middle;\n",
       "    }\n",
       "\n",
       "    .dataframe tbody tr th {\n",
       "        vertical-align: top;\n",
       "    }\n",
       "\n",
       "    .dataframe thead th {\n",
       "        text-align: right;\n",
       "    }\n",
       "</style>\n",
       "<table border=\"1\" class=\"dataframe\">\n",
       "  <thead>\n",
       "    <tr style=\"text-align: right;\">\n",
       "      <th></th>\n",
       "      <th>Bearer_Id</th>\n",
       "      <th>Engagement Score</th>\n",
       "      <th>Experience Score</th>\n",
       "      <th>Satisfaction Score</th>\n",
       "    </tr>\n",
       "  </thead>\n",
       "  <tbody>\n",
       "    <tr>\n",
       "      <th>3713</th>\n",
       "      <td>13042425955887699968</td>\n",
       "      <td>0.469925</td>\n",
       "      <td>22.245812</td>\n",
       "      <td>11.357868</td>\n",
       "    </tr>\n",
       "    <tr>\n",
       "      <th>76459</th>\n",
       "      <td>7349883257784689664</td>\n",
       "      <td>0.213986</td>\n",
       "      <td>22.346838</td>\n",
       "      <td>11.280412</td>\n",
       "    </tr>\n",
       "    <tr>\n",
       "      <th>127726</th>\n",
       "      <td>13114483568348999680</td>\n",
       "      <td>0.193765</td>\n",
       "      <td>22.346618</td>\n",
       "      <td>11.270192</td>\n",
       "    </tr>\n",
       "    <tr>\n",
       "      <th>11365</th>\n",
       "      <td>13114483552870299648</td>\n",
       "      <td>0.188612</td>\n",
       "      <td>22.346416</td>\n",
       "      <td>11.267514</td>\n",
       "    </tr>\n",
       "    <tr>\n",
       "      <th>148697</th>\n",
       "      <td>7421940858243090432</td>\n",
       "      <td>0.212622</td>\n",
       "      <td>22.346978</td>\n",
       "      <td>11.279800</td>\n",
       "    </tr>\n",
       "  </tbody>\n",
       "</table>\n",
       "</div>"
      ],
      "text/plain": [
       "                   Bearer_Id  Engagement Score  Experience Score  \\\n",
       "3713    13042425955887699968          0.469925         22.245812   \n",
       "76459    7349883257784689664          0.213986         22.346838   \n",
       "127726  13114483568348999680          0.193765         22.346618   \n",
       "11365   13114483552870299648          0.188612         22.346416   \n",
       "148697   7421940858243090432          0.212622         22.346978   \n",
       "\n",
       "        Satisfaction Score  \n",
       "3713             11.357868  \n",
       "76459            11.280412  \n",
       "127726           11.270192  \n",
       "11365            11.267514  \n",
       "148697           11.279800  "
      ]
     },
     "execution_count": 43,
     "metadata": {},
     "output_type": "execute_result"
    }
   ],
   "source": [
    "Mysql_Data.sample(5)"
   ]
  },
  {
   "cell_type": "code",
   "execution_count": 44,
   "id": "65475ab7",
   "metadata": {},
   "outputs": [
    {
     "data": {
      "text/plain": [
       "Bearer_Id             0\n",
       "Engagement Score      0\n",
       "Experience Score      0\n",
       "Satisfaction Score    0\n",
       "dtype: int64"
      ]
     },
     "execution_count": 44,
     "metadata": {},
     "output_type": "execute_result"
    }
   ],
   "source": [
    "Mysql_Data.isnull().sum()"
   ]
  },
  {
   "cell_type": "markdown",
   "id": "0d080213",
   "metadata": {},
   "source": [
    "# Connect with Mysql database"
   ]
  },
  {
   "cell_type": "code",
   "execution_count": 45,
   "id": "12cd0ba1",
   "metadata": {},
   "outputs": [],
   "source": [
    "from pandas.io import sql\n",
    "import mysql.connector\n",
    "import pymysql\n",
    "from sqlalchemy import create_engine"
   ]
  },
  {
   "cell_type": "code",
   "execution_count": 46,
   "id": "47474dbb",
   "metadata": {},
   "outputs": [],
   "source": [
    "# Database credentials and connection\n",
    "db_username = 'root'\n",
    "db_password = 'root'\n",
    "db_host = 'localhost'\n",
    "db_port = 3306\n",
    "db_name = 'telecome_project'"
   ]
  },
  {
   "cell_type": "code",
   "execution_count": 47,
   "id": "4b02662f",
   "metadata": {},
   "outputs": [],
   "source": [
    "engine = create_engine(f\"mysql+mysqlconnector://{db_username}:{db_password}@{db_host}:{db_port}/{db_name}\")"
   ]
  },
  {
   "cell_type": "code",
   "execution_count": 48,
   "id": "9b1cf99c",
   "metadata": {},
   "outputs": [
    {
     "data": {
      "text/plain": [
       "150001"
      ]
     },
     "execution_count": 48,
     "metadata": {},
     "output_type": "execute_result"
    }
   ],
   "source": [
    "Mysql_Data.to_sql(name='final_telecomm_table', con=engine, if_exists='replace', index=False)"
   ]
  },
  {
   "cell_type": "code",
   "execution_count": 49,
   "id": "c8f26fe2",
   "metadata": {},
   "outputs": [
    {
     "name": "stdout",
     "output_type": "stream",
     "text": [
      "              Bearer_Id  Engagement Score  Experience Score  \\\n",
      "0  13114483460844900352          0.196168         22.346687   \n",
      "1  13114483482878900224          0.175220         22.346503   \n",
      "2  13114483484080500736          0.194544         22.346875   \n",
      "3  13114483485442799616          0.192352         22.346551   \n",
      "4  13114483499480700928          0.194544         22.346875   \n",
      "5  13114483499779198976          0.191277         22.346391   \n",
      "6  13114483501243799552          0.156342         22.346103   \n",
      "7  13042425910865399808          0.102993         22.333657   \n",
      "8  13114483506432499712          0.192143         22.346520   \n",
      "9  13042425914669299712          0.083317         22.297112   \n",
      "\n",
      "   Satisfaction Score  \n",
      "0           11.271427  \n",
      "1           11.260862  \n",
      "2           11.270709  \n",
      "3           11.269452  \n",
      "4           11.270709  \n",
      "5           11.268834  \n",
      "6           11.251222  \n",
      "7           11.218325  \n",
      "8           11.269331  \n",
      "9           11.190215  \n"
     ]
    }
   ],
   "source": [
    "query = \"SELECT * FROM final_telecomm_table LIMIT 10;\"\n",
    "data_from_db = pd.read_sql(query, con=engine)\n",
    "print(data_from_db)"
   ]
  },
  {
   "cell_type": "code",
   "execution_count": 50,
   "id": "c943d99c",
   "metadata": {},
   "outputs": [],
   "source": [
    "Mysql_Data.to_csv(r\"C:\\Users\\Hp\\Desktop\\Data_Science_Jupyter\\Telecom_Project_5\\Data\\Final_Data.csv\",index=False)"
   ]
  }
 ],
 "metadata": {
  "kernelspec": {
   "display_name": "Python 3 (ipykernel)",
   "language": "python",
   "name": "python3"
  },
  "language_info": {
   "codemirror_mode": {
    "name": "ipython",
    "version": 3
   },
   "file_extension": ".py",
   "mimetype": "text/x-python",
   "name": "python",
   "nbconvert_exporter": "python",
   "pygments_lexer": "ipython3",
   "version": "3.11.5"
  }
 },
 "nbformat": 4,
 "nbformat_minor": 5
}
